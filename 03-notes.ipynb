{
 "cells": [
  {
   "cell_type": "markdown",
   "metadata": {},
   "source": [
    "## Crossover\n",
    "\n",
    "The process in which individuals from the population trade genetic information, hopefully to create a new individual which contains the best parts from its parents' genome.\n",
    "\n",
    "Crossover rate is compared against a random number to decides whether the individuals should have crossover applied to it, or whether it should be added straight into the next population unaffected by crossover."
   ]
  },
  {
   "cell_type": "markdown",
   "metadata": {},
   "source": [
    "## Strategy\n",
    "\n",
    "- roulette wheel selection\n",
    "- tournament selection\n",
    "- stochastic universal sampling (an advanced form of fitness proportional selection)\n",
    "\n",
    "### Roulette Wheel Selection\n",
    "\n",
    "a.k.a fitness proportionate selection - a selection method which uses the analogy of a roulette wheel to select individuals from a population. Solutions are selected based on their fitness in proportion to the fitness of the rest of the population.\n",
    "\n"
   ]
  },
  {
   "cell_type": "markdown",
   "metadata": {},
   "source": [
    "**Uniform crossover** is a method in which each gene of the offspring has a 50% chance of coming from either its first parent or second parent."
   ]
  },
  {
   "cell_type": "markdown",
   "metadata": {},
   "source": [
    "## Crossover Pseudo Code\n",
    "\n",
    "```\n",
    "for each individual in population:\n",
    "    newPopulation = new array;\n",
    "    if crossoverRate > random():\n",
    "        secondParent = selectParent();\n",
    "        offspring = crossover(individual, secondParent);\n",
    "        newPopulation.push(offspring)\n",
    "    else:\n",
    "        newPopulation.push(individual)\n",
    "    end if;\n",
    "end loop;\n",
    "```"
   ]
  },
  {
   "cell_type": "code",
   "execution_count": null,
   "metadata": {
    "collapsed": true
   },
   "outputs": [],
   "source": []
  }
 ],
 "metadata": {
  "kernelspec": {
   "display_name": "Python 3",
   "language": "python",
   "name": "python3"
  },
  "language_info": {
   "codemirror_mode": {
    "name": "ipython",
    "version": 3
   },
   "file_extension": ".py",
   "mimetype": "text/x-python",
   "name": "python",
   "nbconvert_exporter": "python",
   "pygments_lexer": "ipython3",
   "version": "3.6.2"
  }
 },
 "nbformat": 4,
 "nbformat_minor": 2
}
