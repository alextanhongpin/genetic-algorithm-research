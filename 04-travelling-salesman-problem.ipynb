{
 "cells": [
  {
   "cell_type": "markdown",
   "metadata": {},
   "source": [
    "# Travelling Salesman Problem\n",
    "\n",
    "The Travelling Salesman Problem(TLP) is a classic optimization problem, studied as far back as the 1800s. It involves finding the most efficient route through a collection of cities, visiting each city exactly once.\n"
   ]
  },
  {
   "cell_type": "code",
   "execution_count": 5,
   "metadata": {
    "collapsed": true
   },
   "outputs": [],
   "source": [
    "from operator import attrgetter\n",
    "import random"
   ]
  },
  {
   "cell_type": "code",
   "execution_count": 6,
   "metadata": {
    "collapsed": true
   },
   "outputs": [],
   "source": [
    "class Individual:\n",
    "    def __init__(self, chromosome_len):\n",
    "        self._chromosome = np.random.randint(2, size=chromosome_len)\n",
    "        self._fitness = -1\n",
    "    \n",
    "    @property\n",
    "    def chromosome(self):\n",
    "        return self._chromosome\n",
    "    \n",
    "    @property\n",
    "    def chromosome_len(self):\n",
    "        return len(self._chromosome)\n",
    "    \n",
    "    def get_gene(self, offset):\n",
    "        return self._chromosome[offset]\n",
    "    \n",
    "    def set_gene(self, offset, gene):\n",
    "        self._chromosome[offset] = gene\n",
    "    \n",
    "    @property\n",
    "    def fitness(self):\n",
    "        return self._fitness\n",
    "\n",
    "    @fitness.setter\n",
    "    def fitness(self, fitness):\n",
    "        self._fitness = fitness\n",
    "    \n",
    "    def __str__(self):\n",
    "        output = ''\n",
    "        for i, v in enumerate(self._chromosome):\n",
    "            output += str(v)\n",
    "        return output\n",
    "        "
   ]
  },
  {
   "cell_type": "code",
   "execution_count": 7,
   "metadata": {
    "collapsed": true
   },
   "outputs": [],
   "source": [
    "class Population:\n",
    "    def __init__(self, population_size, chromosome_len):\n",
    "        self._population_fitness = -1\n",
    "        self._population = [Individual] * population_size\n",
    "        \n",
    "        for i in range(population_size):\n",
    "            self._population[i] = Individual(chromosome_len)\n",
    "        \n",
    "    @property\n",
    "    def individuals(self):\n",
    "        return self._population\n",
    "    \n",
    "    def get_fittest(self, offset):\n",
    "        self._population = sorted(self._population, key=attrgetter('fitness'), reverse=True)\n",
    "        return self_population[offset]\n",
    "    \n",
    "    @property\n",
    "    def population_fitness(self):\n",
    "        return self._population_fitness\n",
    "    \n",
    "    @population_fitness.setter\n",
    "    def population_fitness(self, fitness):\n",
    "        self._population_fitness = fitness\n",
    "    \n",
    "    @property\n",
    "    def size(self):\n",
    "        return len(self._population)\n",
    "    \n",
    "    def set_individual(self, offset, individual):\n",
    "        self._population[offset] = individual\n",
    "    \n",
    "    def get_individual(self, offset):\n",
    "        return self._population[offset]\n",
    "    \n",
    "    def shuffle(self):\n",
    "        random.shuffle(self._population)"
   ]
  },
  {
   "cell_type": "code",
   "execution_count": null,
   "metadata": {
    "collapsed": true
   },
   "outputs": [],
   "source": [
    "class GeneticAlgorithm:\n",
    "    def __init__(self, population_size, mutation_rate, crossover_rate, elitism_count):\n",
    "        self.population_size = population_size\n",
    "        self.mutation_rate = mutation_rate\n",
    "        self.crossover_rate = crossover_rate\n",
    "        self.elitism_count = elitism_count\n",
    "    \n",
    "    def init_population(self, chromosome_len):\n",
    "        '''\n",
    "        creates the population with a predifined size and also chromosome len\n",
    "        '''\n",
    "        population = Population(self.population_size, chromosome_len)\n",
    "        return population\n",
    "\n",
    "    def calculate_fitness(self, individual):\n",
    "        '''\n",
    "        count the fitness for each of the individual gens\n",
    "        '''\n",
    "        pass\n",
    "\n",
    "    def eval_population(self, population):\n",
    "        pass\n",
    "    \n",
    "    def is_termination_condition_met(self, population):\n",
    "        pass\n",
    "    \n",
    "    def select_parent(self, population):\n",
    "        pass\n",
    "    \n",
    "    def crossover_population(self, population, chromosome_len):\n",
    "        pass\n",
    "    \n",
    "    def mutate_population(self, population, chromosome_len):\n",
    "        pass"
   ]
  }
 ],
 "metadata": {
  "kernelspec": {
   "display_name": "Python 3",
   "language": "python",
   "name": "python3"
  },
  "language_info": {
   "codemirror_mode": {
    "name": "ipython",
    "version": 3
   },
   "file_extension": ".py",
   "mimetype": "text/x-python",
   "name": "python",
   "nbconvert_exporter": "python",
   "pygments_lexer": "ipython3",
   "version": "3.6.2"
  }
 },
 "nbformat": 4,
 "nbformat_minor": 2
}
