{
 "cells": [
  {
   "cell_type": "markdown",
   "metadata": {},
   "source": [
    "# Travelling Salesman Problem\n",
    "\n",
    "The Travelling Salesman Problem(TLP) is a classic optimization problem, studied as far back as the 1800s. It involves finding the most efficient route through a collection of cities, visiting each city exactly once.\n"
   ]
  },
  {
   "cell_type": "code",
   "execution_count": 20,
   "metadata": {
    "collapsed": true
   },
   "outputs": [],
   "source": [
    "from operator import attrgetter\n",
    "import numpy as np\n",
    "import random"
   ]
  },
  {
   "cell_type": "code",
   "execution_count": 21,
   "metadata": {
    "collapsed": true
   },
   "outputs": [],
   "source": [
    "class Individual:\n",
    "    def __init__(self, chromosome_len):\n",
    "        # Create an array from 0 to n\n",
    "        self._chromosome = np.arange(0, chromosome_len)\n",
    "        self._fitness = -1\n",
    "    \n",
    "    @property\n",
    "    def chromosome(self):\n",
    "        return self._chromosome\n",
    "    \n",
    "    @property\n",
    "    def chromosome_len(self):\n",
    "        return len(self._chromosome)\n",
    "    \n",
    "    def get_gene(self, offset):\n",
    "        return self._chromosome[offset]\n",
    "    \n",
    "    def set_gene(self, offset, gene):\n",
    "        self._chromosome[offset] = gene\n",
    "    \n",
    "    @property\n",
    "    def fitness(self):\n",
    "        return self._fitness\n",
    "\n",
    "    @fitness.setter\n",
    "    def fitness(self, fitness):\n",
    "        self._fitness = fitness\n",
    "    \n",
    "    def __str__(self):\n",
    "        output = ''\n",
    "        for i, v in enumerate(self._chromosome):\n",
    "            output += str(v)\n",
    "        return output\n",
    "        "
   ]
  },
  {
   "cell_type": "code",
   "execution_count": 22,
   "metadata": {
    "collapsed": true
   },
   "outputs": [],
   "source": [
    "class Population:\n",
    "    def __init__(self, population_size, chromosome_len):\n",
    "        self._population_fitness = -1\n",
    "        self._population = [Individual] * population_size\n",
    "        \n",
    "        for i in range(population_size):\n",
    "            self._population[i] = Individual(chromosome_len)\n",
    "        \n",
    "    @property\n",
    "    def individuals(self):\n",
    "        return self._population\n",
    "    \n",
    "    def get_fittest(self, offset):\n",
    "        self._population = sorted(self._population, key=attrgetter('fitness'), reverse=True)\n",
    "        return self_population[offset]\n",
    "    \n",
    "    @property\n",
    "    def population_fitness(self):\n",
    "        return self._population_fitness\n",
    "    \n",
    "    @population_fitness.setter\n",
    "    def population_fitness(self, fitness):\n",
    "        self._population_fitness = fitness\n",
    "    \n",
    "    @property\n",
    "    def size(self):\n",
    "        return len(self._population)\n",
    "    \n",
    "    def set_individual(self, offset, individual):\n",
    "        self._population[offset] = individual\n",
    "    \n",
    "    def get_individual(self, offset):\n",
    "        return self._population[offset]\n",
    "    \n",
    "    def shuffle(self):\n",
    "        random.shuffle(self._population)"
   ]
  },
  {
   "cell_type": "code",
   "execution_count": 23,
   "metadata": {
    "collapsed": true
   },
   "outputs": [],
   "source": [
    "class GeneticAlgorithm:\n",
    "    def __init__(self, population_size, mutation_rate, crossover_rate, elitism_count):\n",
    "        self.population_size = population_size\n",
    "        self.mutation_rate = mutation_rate\n",
    "        self.crossover_rate = crossover_rate\n",
    "        self.elitism_count = elitism_count\n",
    "    \n",
    "    def init_population(self, chromosome_len):\n",
    "        '''\n",
    "        creates the population with a predifined size and also chromosome len\n",
    "        '''\n",
    "        population = Population(self.population_size, chromosome_len)\n",
    "        return population\n",
    "\n",
    "    def calculate_fitness(self, individual, cities):\n",
    "        '''\n",
    "        count the fitness for each of the individual gens\n",
    "        '''\n",
    "        route = Route(individual, cities)\n",
    "        fitness = 1 / route.get_distance()\n",
    "        \n",
    "        individual.fitness = fitness\n",
    "        return fitness\n",
    "\n",
    "    def eval_population(self, population, cities):\n",
    "        population_fitness = 0\n",
    "        \n",
    "        # Loop over the population evaulating individuals and summing population fitness\n",
    "        for i, individual in enumerate(population.individuals):\n",
    "            population_fitness += self.calculate_fitness(individual, cities)\n",
    "        average_fitness = population_fitness / population.size\n",
    "        population.population_fitness = average_fitness\n",
    "        \n",
    "    \n",
    "    def is_termination_condition_met(self, population):\n",
    "        pass\n",
    "    \n",
    "    def select_parent(self, population):\n",
    "        pass\n",
    "    \n",
    "    def crossover_population(self, population, chromosome_len):\n",
    "        pass\n",
    "    \n",
    "    def mutate_population(self, population, chromosome_len):\n",
    "        pass\n"
   ]
  },
  {
   "cell_type": "code",
   "execution_count": 24,
   "metadata": {
    "collapsed": true
   },
   "outputs": [],
   "source": [
    "from math import sqrt\n",
    "\n",
    "class City:\n",
    "    def __init__(self, x, y):\n",
    "        self.x = x\n",
    "        self.y = y\n",
    "    \n",
    "    def distance_from(city):\n",
    "        '''\n",
    "        returns the difference of distance from a city\n",
    "        '''\n",
    "        deltaX = pow(city.x - self.x, 2)\n",
    "        deltaY = pow(city.y - self.y, 2)\n",
    "        distance = sqrt(abs(deltaX + deltaY))\n",
    "        return distance"
   ]
  },
  {
   "cell_type": "code",
   "execution_count": 25,
   "metadata": {
    "collapsed": true
   },
   "outputs": [],
   "source": [
    "class Route:\n",
    "    def __init__(self, individual, cities):\n",
    "        # Get individual's chromosome\n",
    "        chromosome = individual.chromosome\n",
    "        \n",
    "        # Create route\n",
    "        self.route = City[len(cities)]\n",
    "        for i in range(len(chromosome)):\n",
    "            self.route[gene_index] = cities[chromosome[gene_index]]\n",
    "    \n",
    "    def get_distance(self):\n",
    "        if self.distance > 0:\n",
    "            return self.distance\n",
    "        \n",
    "        # Loop over cities in route and calculate route distance\n",
    "        total_distance = 0\n",
    "        for city_index in range(len(self.route)):\n",
    "            total_distance = self.route[city_index].distance_from(self.route[city_index + 1])\n",
    "        \n",
    "        total_distance += self.route[self.route - 1].distance_from(self.routep[0])\n",
    "        \n",
    "        self.distance = total_distance\n",
    "        return total_distance\n",
    "    \n",
    "        "
   ]
  },
  {
   "cell_type": "code",
   "execution_count": 29,
   "metadata": {
    "collapsed": false
   },
   "outputs": [
    {
     "ename": "NameError",
     "evalue": "name 'max_generation' is not defined",
     "output_type": "error",
     "traceback": [
      "\u001b[0;31m---------------------------------------------------------------------------\u001b[0m",
      "\u001b[0;31mNameError\u001b[0m                                 Traceback (most recent call last)",
      "\u001b[0;32m<ipython-input-29-5ce60588e38d>\u001b[0m in \u001b[0;36m<module>\u001b[0;34m()\u001b[0m\n\u001b[1;32m     45\u001b[0m         \u001b[0mprint\u001b[0m\u001b[0;34m(\u001b[0m\u001b[0;34m'best distance: {}'\u001b[0m\u001b[0;34m,\u001b[0m \u001b[0mroute\u001b[0m\u001b[0;34m.\u001b[0m\u001b[0mget_distance\u001b[0m\u001b[0;34m(\u001b[0m\u001b[0;34m)\u001b[0m\u001b[0;34m)\u001b[0m\u001b[0;34m\u001b[0m\u001b[0m\n\u001b[1;32m     46\u001b[0m \u001b[0;34m\u001b[0m\u001b[0m\n\u001b[0;32m---> 47\u001b[0;31m \u001b[0mTravellingSalesmanProblem\u001b[0m\u001b[0;34m(\u001b[0m\u001b[0;34m)\u001b[0m\u001b[0;34m\u001b[0m\u001b[0m\n\u001b[0m",
      "\u001b[0;32m<ipython-input-29-5ce60588e38d>\u001b[0m in \u001b[0;36m__init__\u001b[0;34m(self)\u001b[0m\n\u001b[1;32m     22\u001b[0m \u001b[0;34m\u001b[0m\u001b[0m\n\u001b[1;32m     23\u001b[0m         \u001b[0;31m# Start evolution loop\u001b[0m\u001b[0;34m\u001b[0m\u001b[0;34m\u001b[0m\u001b[0m\n\u001b[0;32m---> 24\u001b[0;31m         \u001b[0;32mwhile\u001b[0m \u001b[0;32mnot\u001b[0m \u001b[0mga\u001b[0m\u001b[0;34m.\u001b[0m\u001b[0mis_termination_condition_met\u001b[0m\u001b[0;34m(\u001b[0m\u001b[0mgeneration\u001b[0m\u001b[0;34m,\u001b[0m \u001b[0mmax_generation\u001b[0m\u001b[0;34m)\u001b[0m\u001b[0;34m:\u001b[0m\u001b[0;34m\u001b[0m\u001b[0m\n\u001b[0m\u001b[1;32m     25\u001b[0m             \u001b[0;31m# TODO: Print fittest individual from population\u001b[0m\u001b[0;34m\u001b[0m\u001b[0;34m\u001b[0m\u001b[0m\n\u001b[1;32m     26\u001b[0m             \u001b[0mroute\u001b[0m \u001b[0;34m=\u001b[0m \u001b[0mRoute\u001b[0m\u001b[0;34m(\u001b[0m\u001b[0mpopulation\u001b[0m\u001b[0;34m.\u001b[0m\u001b[0mget_fittest\u001b[0m\u001b[0;34m(\u001b[0m\u001b[0;36m0\u001b[0m\u001b[0;34m)\u001b[0m\u001b[0;34m,\u001b[0m \u001b[0mcities\u001b[0m\u001b[0;34m)\u001b[0m\u001b[0;34m\u001b[0m\u001b[0m\n",
      "\u001b[0;31mNameError\u001b[0m: name 'max_generation' is not defined"
     ]
    }
   ],
   "source": [
    "class TravellingSalesmanProblem:\n",
    "    def __init__(self):\n",
    "        max_generations = 3000\n",
    "        num_cities = 100\n",
    "        \n",
    "        # Create cities at random position\n",
    "        x_pos = np.random.randint(100, size=num_cities)\n",
    "        y_pos = np.random.randint(100, size=num_cities)\n",
    "        \n",
    "        cities = [City] * num_cities # np.empty((num_cities,))\n",
    "        for i, (x, y) in enumerate(list(zip(x_pos, y_pos))):\n",
    "            cities[i] = City(x, y)\n",
    "        \n",
    "        # Initial GA\n",
    "        ga = GeneticAlgorithm(100, 0.001, 0.9, 2)\n",
    "        population = ga.init_population(len(cities))\n",
    "        \n",
    "        # TODO: Evaluate populatino\n",
    "        \n",
    "        # Keep track of current generation\n",
    "        generation = 1\n",
    "        \n",
    "        # Start evolution loop\n",
    "        while not ga.is_termination_condition_met(generation, max_generations):\n",
    "            # TODO: Print fittest individual from population\n",
    "            route = Route(population.get_fittest(0), cities)\n",
    "            print('best distance: {}'.format(route.get_distance()))\n",
    "            \n",
    "            \n",
    "            # TODO: Apply crossover\n",
    "            \n",
    "            # TODO: Apply mutation\n",
    "            \n",
    "            # TODO: Evaluate population\n",
    "            ga.eval_population(population, cities)\n",
    "            \n",
    "            # Increment the current generation\n",
    "            generation += 1\n",
    "        \n",
    "        # TODO: Display results\n",
    "        \n",
    "\n",
    "        print('stopped after {} generations', max_generations)\n",
    "        route = Route(population.get_fittest(0), cities)\n",
    "        print('best distance: {}', route.get_distance())\n",
    "\n",
    "TravellingSalesmanProblem()"
   ]
  }
 ],
 "metadata": {
  "kernelspec": {
   "display_name": "Python 3",
   "language": "python",
   "name": "python3"
  },
  "language_info": {
   "codemirror_mode": {
    "name": "ipython",
    "version": 3
   },
   "file_extension": ".py",
   "mimetype": "text/x-python",
   "name": "python",
   "nbconvert_exporter": "python",
   "pygments_lexer": "ipython3",
   "version": "3.6.2"
  }
 },
 "nbformat": 4,
 "nbformat_minor": 2
}
