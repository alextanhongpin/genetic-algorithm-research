{
 "cells": [
  {
   "cell_type": "code",
   "execution_count": 60,
   "metadata": {
    "collapsed": false
   },
   "outputs": [
    {
     "name": "stdout",
     "output_type": "stream",
     "text": [
      "[1 1 1 0 1 0 1 1 1 0]\n"
     ]
    }
   ],
   "source": [
    "import numpy as np\n",
    "\n",
    "\n",
    "print()\n",
    "\n",
    "\n",
    "class GeneticAlgorithm:\n",
    "    def __init__(self, population_size, mutation_rate, crossover_rate, elitism_count):\n",
    "        self.population_size = population_size\n",
    "        self.mutation_rate = mutation_rate\n",
    "        self.crossover_rate = crossover_rate\n",
    "        self.elitism_count = elitism_count\n",
    "    \n",
    "    def init_population(self, chromosome_len):\n",
    "        population = Population(self.population_size, chromosome_len)\n",
    "        return population\n",
    "        "
   ]
  },
  {
   "cell_type": "code",
   "execution_count": 5,
   "metadata": {
    "collapsed": true
   },
   "outputs": [],
   "source": [
    "# Main class to initialize the Genetic Algorithm\n",
    "class AllOnesGA:\n",
    "    def __init__(self):\n",
    "        ga = GeneticAlgorithm(100, 0.01, 0.95, 0)\n",
    "        \n",
    "        population = ga.init_population(50)\n",
    "        pass"
   ]
  },
  {
   "cell_type": "code",
   "execution_count": 154,
   "metadata": {
    "collapsed": false
   },
   "outputs": [],
   "source": [
    "class Individual:\n",
    "    def __init__(self, chromosome_len):\n",
    "        # Creates an array of random zeros and ones with a fixed len\n",
    "        self._chromosome = np.random.randint(2, size=chromosome_len)\n",
    "        self._fitness = -1\n",
    "        pass\n",
    "    \n",
    "    @property\n",
    "    def chromosome(self):\n",
    "        return self._chromosome\n",
    "    \n",
    "    @property\n",
    "    def chromosome_len(self):\n",
    "        return len(self._chromosome)\n",
    "    \n",
    "    def get_gene(self, offset):\n",
    "        return self._chromosome[offset]\n",
    "    \n",
    "    def set_gene(self, offset, gene):\n",
    "        self._chromosome[offset] = gene\n",
    "    \n",
    "    @property \n",
    "    def fitness(self):\n",
    "        return self._fitness\n",
    "    \n",
    "    @fitness.setter\n",
    "    def fitness(self, fitness):\n",
    "        self._fitness = fitness\n",
    "    \n",
    "    def __str__(self):\n",
    "        output = ''\n",
    "        for i, v in enumerate(self.chromosome):\n",
    "            output += str(v)\n",
    "        return output\n"
   ]
  },
  {
   "cell_type": "code",
   "execution_count": 175,
   "metadata": {
    "collapsed": false
   },
   "outputs": [
    {
     "name": "stdout",
     "output_type": "stream",
     "text": [
      "111\n",
      "100\n",
      "100\n",
      "100\n"
     ]
    }
   ],
   "source": [
    "from operator import attrgetter\n",
    "import random\n",
    "\n",
    "class Population:\n",
    "    def __init__(self, population_size, chromosome_len):\n",
    "        self._population_fitness = -1\n",
    "        self._population = [Individual] * population_size\n",
    "\n",
    "        for i in range(population_size):\n",
    "            self._population[i] = Individual(chromosome_len)\n",
    "    \n",
    "    @property\n",
    "    def individuals(self):\n",
    "        return self._population\n",
    "    \n",
    "    def get_fittest(self, offset):\n",
    "        # Sort by fitness\n",
    "        print(self._population[offset])\n",
    "        sorted(self._population, key=attrgetter('fitness'), reverse=False)\n",
    "        print(self._population[offset])\n",
    "        return self._population[offset]\n",
    "\n",
    "    @property\n",
    "    def population_fitness(self):\n",
    "        return self._population_fitness\n",
    "\n",
    "    @population_fitness.setter\n",
    "    def population_fitness(self, fitness):\n",
    "        self._population_fitness = fitness\n",
    "    \n",
    "\n",
    "    @property\n",
    "    def size(self):\n",
    "        return len(self._population)\n",
    "\n",
    "    def set_individual(self, offset, individual):\n",
    "        self._population[offset] = individual\n",
    "    \n",
    "    def get_individual(self, offset):\n",
    "        return self._population[offset]\n",
    "\n",
    "    def shuffle(self):\n",
    "        random.shuffle(self._population)\n",
    "        \n",
    "population = Population(3, 3)\n",
    "print(population.individuals[0])\n",
    "print(population.get_fittest(1))\n",
    "population.shuffle()"
   ]
  },
  {
   "cell_type": "code",
   "execution_count": null,
   "metadata": {
    "collapsed": true
   },
   "outputs": [],
   "source": []
  }
 ],
 "metadata": {
  "kernelspec": {
   "display_name": "Python 3",
   "language": "python",
   "name": "python3"
  },
  "language_info": {
   "codemirror_mode": {
    "name": "ipython",
    "version": 3
   },
   "file_extension": ".py",
   "mimetype": "text/x-python",
   "name": "python",
   "nbconvert_exporter": "python",
   "pygments_lexer": "ipython3",
   "version": "3.6.2"
  }
 },
 "nbformat": 4,
 "nbformat_minor": 2
}
