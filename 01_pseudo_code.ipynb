{
 "cells": [
  {
   "cell_type": "markdown",
   "metadata": {},
   "source": [
    "# Genetic Algorithm\n",
    "\n",
    "## Pseudo Code\n",
    "\n",
    "The following is the pseudo code for the basic genetic algorithm:\n",
    "\n",
    "```\n",
    "generation = 0\n",
    "population[generation] = initializePopulation(populationSize)\n",
    "evaluatePopulation(population[generation])\n",
    "while isTerminationConditionMet() == false do\n",
    "    parents = selectParents(population[generation])\n",
    "    population[generation + 1] = crossover(parents)\n",
    "    population[generation + 1] = mutate(population[generation + 1])\n",
    "    evaluatePopulation(population[generation])\n",
    "    generation++\n",
    "end loop\n",
    "```\n",
    "\n",
    "1. It begins by creating the genetic algorithm's initial population. \n",
    "2. This population is then evaluated to find the fitness values of its individuals.\n",
    "3. Next, a check is run to decide if the genetic algorithm begins looping and the population goes through its first round of crossover and mutation before finally being reevaluated.\n",
    "4. From here, *crossover* and *mutation* are continuously applied until the termination condition is met, and the genetic algorithm terminates.\n"
   ]
  }
 ],
 "metadata": {
  "kernelspec": {
   "display_name": "Python 3",
   "language": "python",
   "name": "python3"
  },
  "language_info": {
   "codemirror_mode": {
    "name": "ipython",
    "version": 3
   },
   "file_extension": ".py",
   "mimetype": "text/x-python",
   "name": "python",
   "nbconvert_exporter": "python",
   "pygments_lexer": "ipython3",
   "version": "3.6.2"
  }
 },
 "nbformat": 4,
 "nbformat_minor": 2
}
